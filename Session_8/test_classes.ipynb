{
 "cells": [
  {
   "cell_type": "markdown",
   "metadata": {},
   "source": [
    "Import structure: from <FILE_NAME - WHERE ARE WE IMPORTING FROM?> import <WHAT TO IMPORT>"
   ]
  },
  {
   "cell_type": "code",
   "execution_count": null,
   "metadata": {},
   "outputs": [],
   "source": [
    "from my_functions import square_number\n",
    "from my_classes import Student"
   ]
  },
  {
   "cell_type": "code",
   "execution_count": 2,
   "metadata": {},
   "outputs": [],
   "source": [
    "# instantiating is a fancy word for creating an object/instance of a class/an example of a class\n",
    "\n",
    "# below we've instantiated a list/we created an instance of a list. \n",
    "a = [1,2,3]"
   ]
  },
  {
   "cell_type": "code",
   "execution_count": 3,
   "metadata": {},
   "outputs": [],
   "source": [
    "# lets create an instance of a student: \n",
    "student_1 = Student(\"taj\", 26)\n",
    "\n",
    "student_2 = Student(\"Kaelen\", 19)"
   ]
  },
  {
   "cell_type": "code",
   "execution_count": 4,
   "metadata": {},
   "outputs": [
    {
     "name": "stdout",
     "output_type": "stream",
     "text": [
      "Taj\n",
      "Kaelen\n"
     ]
    }
   ],
   "source": [
    "print(student_1.name)\n",
    "print(student_2.name)"
   ]
  },
  {
   "cell_type": "code",
   "execution_count": 5,
   "metadata": {},
   "outputs": [],
   "source": [
    "student_1.set_course(\"Maths and Stats\")\n",
    "student_1.set_nationality(\"British\")\n",
    "student_1.set_a_level_grades([\"A*\", \"A*\", \"A\", \"C\"])"
   ]
  },
  {
   "cell_type": "code",
   "execution_count": 6,
   "metadata": {},
   "outputs": [
    {
     "data": {
      "text/plain": [
       "'Maths and Stats'"
      ]
     },
     "execution_count": 6,
     "metadata": {},
     "output_type": "execute_result"
    }
   ],
   "source": [
    "student_1.course"
   ]
  },
  {
   "cell_type": "code",
   "execution_count": 7,
   "metadata": {},
   "outputs": [
    {
     "data": {
      "text/plain": [
       "'British'"
      ]
     },
     "execution_count": 7,
     "metadata": {},
     "output_type": "execute_result"
    }
   ],
   "source": [
    "student_1.nationality"
   ]
  },
  {
   "cell_type": "code",
   "execution_count": 8,
   "metadata": {},
   "outputs": [
    {
     "data": {
      "text/plain": [
       "['A*', 'A*', 'A', 'C']"
      ]
     },
     "execution_count": 8,
     "metadata": {},
     "output_type": "execute_result"
    }
   ],
   "source": [
    "student_1.a_level_grades"
   ]
  },
  {
   "cell_type": "code",
   "execution_count": 9,
   "metadata": {},
   "outputs": [],
   "source": [
    "tajs_scores = {\"Probability Theory\" : 80, \"Measure Theory\" : 85}"
   ]
  },
  {
   "cell_type": "code",
   "execution_count": 10,
   "metadata": {},
   "outputs": [],
   "source": [
    "student_1.set_module_scores(tajs_scores)"
   ]
  },
  {
   "cell_type": "code",
   "execution_count": 11,
   "metadata": {},
   "outputs": [
    {
     "name": "stdout",
     "output_type": "stream",
     "text": [
      "{'Probability Theory': 80, 'Measure Theory': 85}\n"
     ]
    }
   ],
   "source": [
    "print(student_1.module_scores)"
   ]
  },
  {
   "cell_type": "code",
   "execution_count": 12,
   "metadata": {},
   "outputs": [],
   "source": [
    "student_1.add_module_score(\"Linear Algebra\", 90)"
   ]
  },
  {
   "cell_type": "code",
   "execution_count": 13,
   "metadata": {},
   "outputs": [
    {
     "name": "stdout",
     "output_type": "stream",
     "text": [
      "{'Probability Theory': 80, 'Measure Theory': 85, 'Linear Algebra': 90}\n"
     ]
    }
   ],
   "source": [
    "print(student_1.module_scores)"
   ]
  },
  {
   "cell_type": "code",
   "execution_count": 14,
   "metadata": {},
   "outputs": [
    {
     "name": "stdout",
     "output_type": "stream",
     "text": [
      "Students Name is Taj and their Age is: 26\n"
     ]
    }
   ],
   "source": [
    "print(student_1)"
   ]
  },
  {
   "cell_type": "code",
   "execution_count": 12,
   "metadata": {},
   "outputs": [],
   "source": [
    "# brief intro to dictionaries: \n",
    "# dictionaries are a data structure that store key-value pairs.\n",
    "\n",
    "age_dict = {\n",
    "    \"Taj\": 26,\n",
    "    \"John\": 27,\n",
    "    \"Jane\": 25\n",
    "}\n",
    "\n",
    "course_dict = {\"Taj\" : \"Maths and Stats\", \"John\": \"Physics\", \"Jane\": \"Biology\"}\n",
    "\n",
    "age_dict[\"Taj\"]\n",
    "course_dict[\"Taj\"]\n",
    "\n",
    "age_dict[\"Kalen\"] = 21"
   ]
  },
  {
   "cell_type": "code",
   "execution_count": 13,
   "metadata": {},
   "outputs": [
    {
     "name": "stdout",
     "output_type": "stream",
     "text": [
      "{'Taj': 26, 'John': 27, 'Jane': 25, 'Kalen': 21}\n"
     ]
    }
   ],
   "source": [
    "print(age_dict)"
   ]
  },
  {
   "cell_type": "code",
   "execution_count": null,
   "metadata": {},
   "outputs": [],
   "source": []
  }
 ],
 "metadata": {
  "kernelspec": {
   "display_name": "base",
   "language": "python",
   "name": "python3"
  },
  "language_info": {
   "codemirror_mode": {
    "name": "ipython",
    "version": 3
   },
   "file_extension": ".py",
   "mimetype": "text/x-python",
   "name": "python",
   "nbconvert_exporter": "python",
   "pygments_lexer": "ipython3",
   "version": "3.11.8"
  }
 },
 "nbformat": 4,
 "nbformat_minor": 2
}
