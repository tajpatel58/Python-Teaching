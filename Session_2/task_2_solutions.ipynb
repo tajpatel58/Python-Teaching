{
 "cells": [
  {
   "cell_type": "markdown",
   "metadata": {},
   "source": [
    "### Task 2 Solutions:"
   ]
  },
  {
   "cell_type": "markdown",
   "metadata": {},
   "source": [
    "\n",
    "Write a function that takes in a list of numbers, and outputs a list of all the even numbers. "
   ]
  },
  {
   "cell_type": "code",
   "execution_count": 14,
   "metadata": {},
   "outputs": [],
   "source": [
    "def even_number_lister(my_list: list) -> list:\n",
    "    # create an empty list to store the even numbers\n",
    "    even_number_list = []\n",
    "\n",
    "    # loop through each item in the list\n",
    "    for number in my_list:\n",
    "\n",
    "        # check if the number is even and if even, add to the list\n",
    "        remainder = number % 2\n",
    "        if remainder == 0:\n",
    "            even_number_list.append(number)\n",
    "        else:\n",
    "            continue\n",
    "    return even_number_list"
   ]
  },
  {
   "cell_type": "code",
   "execution_count": 15,
   "metadata": {},
   "outputs": [
    {
     "name": "stdout",
     "output_type": "stream",
     "text": [
      "[2, 4, 8, 120]\n"
     ]
    }
   ],
   "source": [
    "test_list = [5,1,2,3,4,8,120,7]\n",
    "expected_output = [2,4,8,120]\n",
    "\n",
    "print(even_number_lister(test_list))\n"
   ]
  },
  {
   "cell_type": "markdown",
   "metadata": {},
   "source": [
    "Create a string, and name it \"my_string\", then run the following: list(my_string) -> explain what is happening?"
   ]
  },
  {
   "cell_type": "code",
   "execution_count": 24,
   "metadata": {},
   "outputs": [
    {
     "data": {
      "text/plain": [
       "['G', 'o', 'o', 'd', ' ', 'M', 'o', 'r', 'n', 'i', 'n', 'g']"
      ]
     },
     "execution_count": 24,
     "metadata": {},
     "output_type": "execute_result"
    }
   ],
   "source": [
    "my_string = \"Good Morning\"\n",
    "list(my_string)"
   ]
  },
  {
   "cell_type": "markdown",
   "metadata": {},
   "source": [
    "Explanation: Breaks a string into character by character to form a list"
   ]
  },
  {
   "cell_type": "markdown",
   "metadata": {},
   "source": [
    "Write a function that takes in a string and reverses the string. (Hint: use the line above to convert string to a list)."
   ]
  },
  {
   "cell_type": "code",
   "execution_count": 69,
   "metadata": {},
   "outputs": [],
   "source": [
    "def string_reverser(string_to_reverse: str) -> str:\n",
    "    list_string = list(string_to_reverse)\n",
    "    list_string.reverse()\n",
    "    joined_str = \"\".join(list_string)\n",
    "    return joined_str\n"
   ]
  },
  {
   "cell_type": "code",
   "execution_count": 72,
   "metadata": {},
   "outputs": [
    {
     "data": {
      "text/plain": [
       "'eluspaC'"
      ]
     },
     "execution_count": 72,
     "metadata": {},
     "output_type": "execute_result"
    }
   ],
   "source": [
    "test_input = \"Capsule\"\n",
    "expected_output = \"eluspaC\"\n",
    "string_reverser(test_input)"
   ]
  },
  {
   "cell_type": "markdown",
   "metadata": {},
   "source": [
    "From Session 1 task solutions: \"task_1_solutions.ipynb\", take the functions, store them into a \".py\" script, import them and use them."
   ]
  },
  {
   "cell_type": "markdown",
   "metadata": {},
   "source": [
    "\"*\" used to import all functions from a file, or you can specify which functions you want."
   ]
  },
  {
   "cell_type": "code",
   "execution_count": 4,
   "metadata": {},
   "outputs": [],
   "source": [
    "from my_scripts.task_1_functions import *"
   ]
  },
  {
   "cell_type": "code",
   "execution_count": 3,
   "metadata": {},
   "outputs": [
    {
     "name": "stdout",
     "output_type": "stream",
     "text": [
      "Buzz\n"
     ]
    }
   ],
   "source": [
    "is_number_Fizz_or_Buzz_or_FizzBuzz(5)"
   ]
  },
  {
   "cell_type": "markdown",
   "metadata": {},
   "source": [
    "Try the \".pop\" method on a list, explain what it does?"
   ]
  },
  {
   "cell_type": "code",
   "execution_count": 8,
   "metadata": {},
   "outputs": [
    {
     "name": "stdout",
     "output_type": "stream",
     "text": [
      "3\n",
      "[1, 2, 4]\n"
     ]
    }
   ],
   "source": [
    "new_list = [1,2,3,4]\n",
    "print(new_list.pop(2))\n",
    "print(new_list)"
   ]
  },
  {
   "cell_type": "markdown",
   "metadata": {},
   "source": [
    "Pop does 2 things:\n",
    "    - Takes in an index, and returns the value of the list at that index. \n",
    "    - Also removes the element in that inddex from the list. "
   ]
  },
  {
   "cell_type": "markdown",
   "metadata": {},
   "source": [
    "Create 4 lists, explain the difference between: list_1.append(list_2) and list_3.extend(list_4)"
   ]
  },
  {
   "cell_type": "code",
   "execution_count": 12,
   "metadata": {},
   "outputs": [
    {
     "name": "stdout",
     "output_type": "stream",
     "text": [
      "[1, 2, 3, 10]\n"
     ]
    }
   ],
   "source": [
    "test_list = [1,2,3]\n",
    "test_list.append(10)\n",
    "print(test_list)"
   ]
  },
  {
   "cell_type": "code",
   "execution_count": 14,
   "metadata": {},
   "outputs": [],
   "source": [
    "my_list_1 = [1, 2, 3, 5]\n",
    "my_list_2 = [3, 5, 6, 7]\n",
    "my_list_3 = [5, 3, 2, 9]\n",
    "my_list_4 = [4, 6, 9, 32]\n",
    "\n",
    "my_list_1.append(my_list_2)\n",
    "my_list_3.extend(my_list_4)"
   ]
  },
  {
   "cell_type": "markdown",
   "metadata": {},
   "source": [
    "- Append adds the item/object directly at the end of the list. \n",
    "- Extend takes in a list, and adds each element one by one. "
   ]
  },
  {
   "cell_type": "markdown",
   "metadata": {},
   "source": [
    "Write a function that takes in a list, and returns a new list without any duplicates. Eg: [1,2,2,3,4,4,4,4] -> [1,2,3,4]"
   ]
  },
  {
   "cell_type": "code",
   "execution_count": 22,
   "metadata": {},
   "outputs": [
    {
     "name": "stdout",
     "output_type": "stream",
     "text": [
      "bye\n"
     ]
    }
   ],
   "source": [
    "# you can check in an if statement if a value is in a list. \n",
    "new_list = [1,2,3]\n",
    "if 2 not in new_list:\n",
    "    print(\"hello\")\n",
    "else:\n",
    "    print(\"bye\")"
   ]
  },
  {
   "cell_type": "code",
   "execution_count": 20,
   "metadata": {},
   "outputs": [],
   "source": [
    "def list_without_duplicates(my_list_with_duplicates: list) -> list:\n",
    "    list_no_dupes = []\n",
    "    for item in my_list_with_duplicates:\n",
    "        if item not in list_no_dupes:\n",
    "            list_no_dupes.append(item)\n",
    "        else:\n",
    "            continue\n",
    "    return list_no_dupes\n",
    "        "
   ]
  },
  {
   "cell_type": "code",
   "execution_count": 19,
   "metadata": {},
   "outputs": [
    {
     "data": {
      "text/plain": [
       "[1, 2, 3, 4]"
      ]
     },
     "execution_count": 19,
     "metadata": {},
     "output_type": "execute_result"
    }
   ],
   "source": [
    "list_without_duplicates([1,2,2,3,4,4,4,4])"
   ]
  }
 ],
 "metadata": {
  "kernelspec": {
   "display_name": "base",
   "language": "python",
   "name": "python3"
  },
  "language_info": {
   "codemirror_mode": {
    "name": "ipython",
    "version": 3
   },
   "file_extension": ".py",
   "mimetype": "text/x-python",
   "name": "python",
   "nbconvert_exporter": "python",
   "pygments_lexer": "ipython3",
   "version": "3.11.8"
  }
 },
 "nbformat": 4,
 "nbformat_minor": 2
}
