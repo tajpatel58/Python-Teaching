{
 "cells": [
  {
   "cell_type": "markdown",
   "metadata": {},
   "source": [
    "1a: Create a list, try to use indexing to reassign the value of an element in the list.\n"
   ]
  },
  {
   "cell_type": "code",
   "execution_count": 25,
   "metadata": {},
   "outputs": [
    {
     "name": "stdout",
     "output_type": "stream",
     "text": [
      "[1, 2, 4, 43, 64, 2]\n"
     ]
    }
   ],
   "source": [
    "my_list = [1, 2, 4, 53, 64, 2]\n",
    "my_list[3] = 43 # 4th value in list\n",
    "print (my_list)"
   ]
  },
  {
   "cell_type": "markdown",
   "metadata": {},
   "source": [
    "1b: \n",
    "Write a function that takes in 1 list of characters (length 1 strings), 1 item to look for, and 1 item to replace with, then return the list of characters, but replacing the item to look for with the item to replace."
   ]
  },
  {
   "cell_type": "code",
   "execution_count": 14,
   "metadata": {},
   "outputs": [],
   "source": [
    "test_list = ['a', 'b', 'c', '!', '@']\n",
    "test_str = 'b'\n",
    "replace_with = 'd'\n",
    "expected_output = ['a', 'd', 'c', '!', '@']"
   ]
  },
  {
   "cell_type": "code",
   "execution_count": 12,
   "metadata": {},
   "outputs": [
    {
     "name": "stdout",
     "output_type": "stream",
     "text": [
      "a\n",
      "b\n",
      "c\n",
      "!\n",
      "@\n"
     ]
    }
   ],
   "source": [
    "for item in test_list:\n",
    "    print(item)"
   ]
  },
  {
   "cell_type": "code",
   "execution_count": 11,
   "metadata": {},
   "outputs": [
    {
     "name": "stdout",
     "output_type": "stream",
     "text": [
      "0\n",
      "item at index: a\n",
      "1\n",
      "item at index: b\n",
      "2\n",
      "item at index: c\n",
      "3\n",
      "item at index: !\n",
      "4\n",
      "item at index: @\n"
     ]
    }
   ],
   "source": [
    "for index in range(len(test_list)):\n",
    "    print(index)\n",
    "    print(f\"item at index: {test_list[index]}\")"
   ]
  },
  {
   "cell_type": "code",
   "execution_count": 24,
   "metadata": {},
   "outputs": [],
   "source": [
    "def character_replacer(input_list: list,\n",
    "                       string_to_replace: str,\n",
    "                       string_to_swap: str) -> list:\n",
    "    for index in range(len(input_list)):\n",
    "        item_at_index = input_list[index]\n",
    "        if item_at_index == string_to_replace:\n",
    "            input_list[index] = string_to_swap\n",
    "    return input_list"
   ]
  },
  {
   "cell_type": "code",
   "execution_count": 25,
   "metadata": {},
   "outputs": [
    {
     "data": {
      "text/plain": [
       "['a', 'd', 'c', '!', '@']"
      ]
     },
     "execution_count": 25,
     "metadata": {},
     "output_type": "execute_result"
    }
   ],
   "source": [
    "character_replacer(test_list, \n",
    "                   test_str, \n",
    "                   replace_with)"
   ]
  },
  {
   "cell_type": "code",
   "execution_count": 26,
   "metadata": {},
   "outputs": [
    {
     "name": "stdout",
     "output_type": "stream",
     "text": [
      "['a', 'd', 'c', '!', '@']\n"
     ]
    }
   ],
   "source": [
    "print(test_list)"
   ]
  },
  {
   "cell_type": "markdown",
   "metadata": {},
   "source": [
    "2. Write a function that takes in 1 string of only letters, and returns the number of vowels, and the number of consonants."
   ]
  },
  {
   "cell_type": "code",
   "execution_count": 27,
   "metadata": {},
   "outputs": [],
   "source": [
    "test_input = \"Kaelen\"\n",
    "expected_output = (3, 3)"
   ]
  },
  {
   "cell_type": "code",
   "execution_count": 28,
   "metadata": {},
   "outputs": [],
   "source": [
    "def vowel_and_consonant_counter(alpha_string: str) -> tuple:\n",
    "    vowels = ['a', 'e', 'i', 'o', 'u', 'A', 'E', 'I', 'O', 'U']\n",
    "    vowel_counter = 0\n",
    "    consonant_counter = 0\n",
    "    for item in alpha_string:\n",
    "        if item in vowels:\n",
    "            vowel_counter = vowel_counter + 1 \n",
    "        else:\n",
    "            consonant_counter = consonant_counter + 1\n",
    "    return vowel_counter, consonant_counter"
   ]
  },
  {
   "cell_type": "markdown",
   "metadata": {},
   "source": [
    "3. Write a function that takes in a dictionary and returns the dictionary reversed, ie: the keys of the input dictionary, become the values of the output dictionary and the values of the input dictionary, become the keys of the output dictionary."
   ]
  },
  {
   "cell_type": "code",
   "execution_count": 6,
   "metadata": {},
   "outputs": [],
   "source": [
    "def dictionary_reverser(input_dict: dict) -> dict:\n",
    "    "
   ]
  },
  {
   "cell_type": "markdown",
   "metadata": {},
   "source": [
    "4. Write a function that takes in a list of numbers, and returns a dictionary with keys being the unqiue values in the list, and the values being the count of the key in the list."
   ]
  },
  {
   "cell_type": "code",
   "execution_count": 12,
   "metadata": {},
   "outputs": [
    {
     "ename": "IndentationError",
     "evalue": "expected an indented block (1543163674.py, line 3)",
     "output_type": "error",
     "traceback": [
      "\u001b[0;36m  Cell \u001b[0;32mIn[12], line 3\u001b[0;36m\u001b[0m\n\u001b[0;31m    for num in my_list:\u001b[0m\n\u001b[0m                       ^\u001b[0m\n\u001b[0;31mIndentationError\u001b[0m\u001b[0;31m:\u001b[0m expected an indented block\n"
     ]
    }
   ],
   "source": [
    "def unique_value_dict(my_list: list) -> dict:\n",
    "    count_dict ={}\n",
    "    for num in my_list:"
   ]
  },
  {
   "cell_type": "markdown",
   "metadata": {},
   "source": [
    "5. Write a function that given a string consisting of words and spaces, return the length of the last word in the string."
   ]
  },
  {
   "cell_type": "code",
   "execution_count": 8,
   "metadata": {},
   "outputs": [
    {
     "ename": "SyntaxError",
     "evalue": "invalid syntax (3250136117.py, line 1)",
     "output_type": "error",
     "traceback": [
      "\u001b[0;36m  Cell \u001b[0;32mIn[8], line 1\u001b[0;36m\u001b[0m\n\u001b[0;31m    def length_of_last_word(input_string: str) -> int\u001b[0m\n\u001b[0m                                                     ^\u001b[0m\n\u001b[0;31mSyntaxError\u001b[0m\u001b[0;31m:\u001b[0m invalid syntax\n"
     ]
    }
   ],
   "source": [
    "def length_of_last_word(input_string: str) -> int:\n",
    "    print(\"hello\")\n"
   ]
  },
  {
   "cell_type": "code",
   "execution_count": 38,
   "metadata": {},
   "outputs": [],
   "source": [
    "first_list = [\"Hello\", \"My\", \"Names\", \"Is\", \"Taj\"]\n",
    "second_list = [\"Hello\", \"Kaelen\"]\n",
    "\n",
    "# write a function that takes in a list of words, and outputs the number of characters of the last word in the list. \n",
    "def length_of_last_word_in_list(list_of_wrods: list) -> int:\n",
    "    pass"
   ]
  },
  {
   "cell_type": "code",
   "execution_count": 34,
   "metadata": {},
   "outputs": [],
   "source": [
    "def final_index_value(my_list: list) -> int:\n",
    "    return len(my_list) - 1"
   ]
  },
  {
   "cell_type": "code",
   "execution_count": 37,
   "metadata": {},
   "outputs": [
    {
     "data": {
      "text/plain": [
       "2"
      ]
     },
     "execution_count": 37,
     "metadata": {},
     "output_type": "execute_result"
    }
   ],
   "source": [
    "final_index_value([\"hello\", \"ee\", \"kjk\"])"
   ]
  },
  {
   "cell_type": "code",
   "execution_count": 41,
   "metadata": {},
   "outputs": [
    {
     "data": {
      "text/plain": [
       "'Kaelen'"
      ]
     },
     "execution_count": 41,
     "metadata": {},
     "output_type": "execute_result"
    }
   ],
   "source": [
    "first_list[final_index_value(first_list)]\n",
    "second_list[final_index_value(second_list)]"
   ]
  },
  {
   "cell_type": "markdown",
   "metadata": {},
   "source": [
    "6. Write a function that takes in a list of numbers, where each number is repeated atleast once, apart from one number that appears only once. Return the number that appears once."
   ]
  },
  {
   "cell_type": "code",
   "execution_count": 20,
   "metadata": {},
   "outputs": [],
   "source": [
    "def single_number_checker(my_list: list) -> int:\n",
    "    single_number = 0\n",
    "    for num in my_list:\n",
    "        single_number ^= num       # cancels out duplicate numbers \n",
    "    return single_number"
   ]
  },
  {
   "cell_type": "code",
   "execution_count": 19,
   "metadata": {},
   "outputs": [
    {
     "data": {
      "text/plain": [
       "7"
      ]
     },
     "execution_count": 19,
     "metadata": {},
     "output_type": "execute_result"
    }
   ],
   "source": [
    "my_list = [1, 2, 4, 1, 2, 4,7]\n",
    "single_number_checker(my_list)"
   ]
  },
  {
   "cell_type": "code",
   "execution_count": null,
   "metadata": {},
   "outputs": [],
   "source": []
  }
 ],
 "metadata": {
  "kernelspec": {
   "display_name": "base",
   "language": "python",
   "name": "python3"
  },
  "language_info": {
   "codemirror_mode": {
    "name": "ipython",
    "version": 3
   },
   "file_extension": ".py",
   "mimetype": "text/x-python",
   "name": "python",
   "nbconvert_exporter": "python",
   "pygments_lexer": "ipython3",
   "version": "3.11.8"
  }
 },
 "nbformat": 4,
 "nbformat_minor": 2
}
