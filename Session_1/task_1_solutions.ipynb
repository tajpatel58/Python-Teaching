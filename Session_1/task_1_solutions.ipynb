{
 "cells": [
  {
   "cell_type": "markdown",
   "metadata": {},
   "source": [
    "1. Write a function that takes in 2 lists, and returns True if the length of both lists are the same, or False if the length is different."
   ]
  },
  {
   "cell_type": "code",
   "execution_count": 13,
   "metadata": {},
   "outputs": [
    {
     "name": "stdout",
     "output_type": "stream",
     "text": [
      "4\n"
     ]
    }
   ],
   "source": [
    "my_list = [1,2,3,5]\n",
    "print(len(my_list))"
   ]
  },
  {
   "cell_type": "code",
   "execution_count": 11,
   "metadata": {},
   "outputs": [],
   "source": [
    "def list_length_checker(list1: list, list2: list):\n",
    "    if len(list1) == len(list2):\n",
    "        return True \n",
    "    else:\n",
    "        return False"
   ]
  },
  {
   "cell_type": "code",
   "execution_count": 14,
   "metadata": {},
   "outputs": [
    {
     "name": "stdout",
     "output_type": "stream",
     "text": [
      "True\n"
     ]
    }
   ],
   "source": [
    "my_second_list = [1,2,3,4]\n",
    "print(list_length_checker(my_list, my_second_list))"
   ]
  },
  {
   "cell_type": "markdown",
   "metadata": {},
   "source": [
    "2. Write a function that takes in 2 numbers, and returns the bigger number and if equal, returns any. "
   ]
  },
  {
   "cell_type": "code",
   "execution_count": 16,
   "metadata": {},
   "outputs": [
    {
     "name": "stdout",
     "output_type": "stream",
     "text": [
      "<class 'int'>\n",
      "<class 'float'>\n"
     ]
    }
   ],
   "source": [
    "a = 1\n",
    "print(type(a))\n",
    "b = 1.2 \n",
    "print(type(b))"
   ]
  },
  {
   "cell_type": "code",
   "execution_count": 17,
   "metadata": {},
   "outputs": [],
   "source": [
    "def get_bigger_number(num_1: float, num_2: float):\n",
    "    if num_1 >= num_2:\n",
    "        return num_1\n",
    "    else:\n",
    "        return num_2"
   ]
  },
  {
   "cell_type": "code",
   "execution_count": 19,
   "metadata": {},
   "outputs": [
    {
     "data": {
      "text/plain": [
       "12134"
      ]
     },
     "execution_count": 19,
     "metadata": {},
     "output_type": "execute_result"
    }
   ],
   "source": [
    "get_bigger_number(2, 3)\n",
    "get_bigger_number(5, 12134)"
   ]
  },
  {
   "cell_type": "markdown",
   "metadata": {},
   "source": [
    "3. Write a function that takes in a number and returns the string \"Fizz\" if the number is divisible by 3, returns \"Buzz\" if the number is divisible by 5, and returns \"FizzBuzz\" if the number is divisible by 3 and 5."
   ]
  },
  {
   "cell_type": "code",
   "execution_count": 8,
   "metadata": {},
   "outputs": [
    {
     "name": "stdout",
     "output_type": "stream",
     "text": [
      "FizzBuzz\n"
     ]
    }
   ],
   "source": [
    "def is_number_Fizz_or_Buzz_or_FizzBuzz(my_number: int):\n",
    "    if my_number % 3 == 0 and my_number % 5 == 0:\n",
    "        print(\"FizzBuzz\")\n",
    "    elif my_number % 3 == 0:\n",
    "        print(\"Fizz\")\n",
    "    elif my_number % 5 == 0:\n",
    "        print(\"Buzz\") \n",
    "is_number_Fizz_or_Buzz_or_FizzBuzz(15)"
   ]
  },
  {
   "cell_type": "markdown",
   "metadata": {},
   "source": [
    "Once you've run a return statement no other code will run. \n",
    "Multiple if statements will run sequentially."
   ]
  },
  {
   "cell_type": "markdown",
   "metadata": {},
   "source": [
    "4. •  Write a function that takes 3 numbers corresponding to height, width, length of a cuboid and returns the volume of the cuboid."
   ]
  },
  {
   "cell_type": "code",
   "execution_count": 20,
   "metadata": {},
   "outputs": [],
   "source": [
    "def cuboid_volume_calculator(l: float, w: float, h: float):\n",
    "    return l * w * h"
   ]
  },
  {
   "cell_type": "code",
   "execution_count": 21,
   "metadata": {},
   "outputs": [
    {
     "name": "stdout",
     "output_type": "stream",
     "text": [
      "280\n"
     ]
    }
   ],
   "source": [
    "l = 10\n",
    "w = 4\n",
    "h = 7\n",
    "print(cuboid_volume_calculator(l, w, h))"
   ]
  },
  {
   "cell_type": "markdown",
   "metadata": {},
   "source": [
    "5. Write a function that takes in a number(corresponding to a persons age) and a string (corresponding to a persons name), then use F-strings to return the string: \"Hi My Name is 'FILL WITH NAME', and my age is 'FILL WITH AGE'\"."
   ]
  },
  {
   "cell_type": "code",
   "execution_count": 22,
   "metadata": {},
   "outputs": [],
   "source": [
    "user_1_name = \"Taj\""
   ]
  },
  {
   "cell_type": "code",
   "execution_count": 24,
   "metadata": {},
   "outputs": [
    {
     "name": "stdout",
     "output_type": "stream",
     "text": [
      "My Name is Taj\n"
     ]
    }
   ],
   "source": [
    "name_string = f\"My Name is {user_1_name}\"\n",
    "print(name_string)"
   ]
  },
  {
   "cell_type": "code",
   "execution_count": 25,
   "metadata": {},
   "outputs": [],
   "source": [
    "def person_name_and_age(age: int, name: str):\n",
    "    return f\"Hi My Name is {name} and my age is {age}\""
   ]
  },
  {
   "cell_type": "code",
   "execution_count": 26,
   "metadata": {},
   "outputs": [
    {
     "data": {
      "text/plain": [
       "'Hi My Name is Taj and my age is 26'"
      ]
     },
     "execution_count": 26,
     "metadata": {},
     "output_type": "execute_result"
    }
   ],
   "source": [
    "person_name_and_age(26, \"Taj\")"
   ]
  }
 ],
 "metadata": {
  "kernelspec": {
   "display_name": "base",
   "language": "python",
   "name": "python3"
  },
  "language_info": {
   "codemirror_mode": {
    "name": "ipython",
    "version": 3
   },
   "file_extension": ".py",
   "mimetype": "text/x-python",
   "name": "python",
   "nbconvert_exporter": "python",
   "pygments_lexer": "ipython3",
   "version": "3.11.8"
  }
 },
 "nbformat": 4,
 "nbformat_minor": 2
}
