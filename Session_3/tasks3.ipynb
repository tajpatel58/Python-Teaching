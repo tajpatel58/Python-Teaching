{
 "cells": [
  {
   "cell_type": "markdown",
   "metadata": {},
   "source": [
    "1. Write a function that takes in a list of integers and returns another list with the numbers from the input list that are multiples of 3."
   ]
  },
  {
   "cell_type": "code",
   "execution_count": 23,
   "metadata": {},
   "outputs": [],
   "source": [
    "def multiple_of_three_checker(my_list: list) -> list:\n",
    "    for item in my_list:\n",
    "        if item % 3 == 0:\n",
    "            return item"
   ]
  },
  {
   "cell_type": "code",
   "execution_count": 19,
   "metadata": {},
   "outputs": [],
   "source": [
    "#Whenever a return is placed inside a function, no other code is run:\n",
    "\n",
    "def return_5(list_nums: list) -> None:\n",
    "    for item in list_nums:\n",
    "        print(item)\n",
    "        return None"
   ]
  },
  {
   "cell_type": "code",
   "execution_count": 28,
   "metadata": {},
   "outputs": [
    {
     "data": {
      "text/plain": [
       "18"
      ]
     },
     "execution_count": 28,
     "metadata": {},
     "output_type": "execute_result"
    }
   ],
   "source": [
    "test_input = [1, 2, 4, 5, 5, 18,  6, 5, 3]\n",
    "expected_output = [6, 3]\n",
    "multiple_of_three_checker(test_input)"
   ]
  },
  {
   "cell_type": "code",
   "execution_count": 26,
   "metadata": {},
   "outputs": [
    {
     "name": "stdout",
     "output_type": "stream",
     "text": [
      "[5]\n"
     ]
    }
   ],
   "source": [
    "empty_list = []\n",
    "empty_list.append(5)\n",
    "print(empty_list)"
   ]
  },
  {
   "cell_type": "code",
   "execution_count": null,
   "metadata": {},
   "outputs": [],
   "source": [
    "def multiple_of_three_checker_correct(my_list: list) -> list:\n",
    "    multiples_of_three = []\n",
    "    for item in my_list:\n",
    "        if item % 3 == 0:\n",
    "            multiples_of_three.append(item) \n",
    "    return multiples_of_three"
   ]
  },
  {
   "cell_type": "code",
   "execution_count": 30,
   "metadata": {},
   "outputs": [
    {
     "data": {
      "text/plain": [
       "[18, 6, 3]"
      ]
     },
     "execution_count": 30,
     "metadata": {},
     "output_type": "execute_result"
    }
   ],
   "source": [
    "multiple_of_three_checker_correct(test_input)"
   ]
  },
  {
   "cell_type": "markdown",
   "metadata": {},
   "source": [
    "2. Create a list of numbers and try use the sort method of a list, what does it do?"
   ]
  },
  {
   "cell_type": "code",
   "execution_count": 33,
   "metadata": {},
   "outputs": [
    {
     "name": "stdout",
     "output_type": "stream",
     "text": [
      "[1, 2, 3, 32, 423, 923, 54612]\n"
     ]
    }
   ],
   "source": [
    "my_list = [1, 2, 3, 423, 54612, 32, 923]\n",
    "my_list.sort()\n",
    "print(my_list)"
   ]
  },
  {
   "cell_type": "markdown",
   "metadata": {},
   "source": [
    "3. Search up what is a Palindrome string and some examples. Then write a function that takes in input as a single string, and returns True if palindrome, False if not."
   ]
  },
  {
   "cell_type": "markdown",
   "metadata": {},
   "source": [
    "Palindrome string: \n",
    "String that reads any function the same forwards and backwards.\n",
    "If the reverse of the string is the same as the string, it is palindrome.\n",
    "\n",
    "Examples-\n",
    "Words- Level, Refer, Dad, Racecar\n",
    "Numbers- 10001, 222, 798987\n"
   ]
  },
  {
   "cell_type": "code",
   "execution_count": 34,
   "metadata": {},
   "outputs": [],
   "source": [
    "import my_string_functions "
   ]
  },
  {
   "cell_type": "code",
   "execution_count": 39,
   "metadata": {},
   "outputs": [],
   "source": [
    "test_string = \"Racecar\"\n",
    "second_test_string = \"Kaelen\"\n"
   ]
  },
  {
   "cell_type": "code",
   "execution_count": 41,
   "metadata": {},
   "outputs": [
    {
     "data": {
      "text/plain": [
       "'neleaK'"
      ]
     },
     "execution_count": 41,
     "metadata": {},
     "output_type": "execute_result"
    }
   ],
   "source": [
    "my_string_functions.string_reverser(second_test_string)"
   ]
  },
  {
   "cell_type": "code",
   "execution_count": 45,
   "metadata": {},
   "outputs": [
    {
     "name": "stdout",
     "output_type": "stream",
     "text": [
      "Kaelen and Taj are friends\n"
     ]
    }
   ],
   "source": [
    "my_fav_fruit = \"Watermelon\"\n",
    "kaelens_fav_fruit = \"Watermelon\"\n",
    "\n",
    "if my_fav_fruit == kaelens_fav_fruit:\n",
    "    print(\"Kaelen and Taj are friends\")\n",
    "else:\n",
    "    print(\"Kaelen and Taj are not friends\")"
   ]
  },
  {
   "cell_type": "code",
   "execution_count": null,
   "metadata": {},
   "outputs": [],
   "source": [
    "def is_palindrome(input_string: str) -> bool:\n",
    "    if my_string_functions.string_reverser(input_string) == input_string:\n",
    "        return True\n",
    "    else:\n",
    "        return False\n"
   ]
  },
  {
   "cell_type": "code",
   "execution_count": 52,
   "metadata": {},
   "outputs": [
    {
     "name": "stdout",
     "output_type": "stream",
     "text": [
      "True\n"
     ]
    }
   ],
   "source": [
    "tajs_string = \"racecar\"\n",
    "\n",
    "print(is_palindrome(tajs_string))"
   ]
  },
  {
   "cell_type": "markdown",
   "metadata": {},
   "source": [
    "4. Create a dictionary with keys as names, and values as their ages. Google how to add new items to a dictionary. Test it out."
   ]
  },
  {
   "cell_type": "code",
   "execution_count": 35,
   "metadata": {},
   "outputs": [],
   "source": [
    "thisdict = {'Kaelen': 19, 'Taj': 36, 'Shriya': 16}"
   ]
  },
  {
   "cell_type": "code",
   "execution_count": 36,
   "metadata": {},
   "outputs": [],
   "source": [
    "thisdict.update({'Dad': 61})"
   ]
  },
  {
   "cell_type": "code",
   "execution_count": 37,
   "metadata": {},
   "outputs": [
    {
     "name": "stdout",
     "output_type": "stream",
     "text": [
      "{'Kaelen': 19, 'Taj': 36, 'Shriya': 16, 'Dad': 61}\n"
     ]
    }
   ],
   "source": [
    "print(thisdict)"
   ]
  },
  {
   "cell_type": "markdown",
   "metadata": {},
   "source": [
    "5. Google how to write a python function that returns 2 things. Then write a function that takes in a list of integers and returns one list of only even numbers and another list of only odd numbers BUT return both of them sorted in ascending order."
   ]
  },
  {
   "cell_type": "code",
   "execution_count": 74,
   "metadata": {},
   "outputs": [],
   "source": [
    "def two_output_func(x: float, y: float) -> tuple:\n",
    "    z = x + 10 * 2\n",
    "    a = y * z\n",
    "    return z, a"
   ]
  },
  {
   "cell_type": "code",
   "execution_count": 56,
   "metadata": {},
   "outputs": [
    {
     "name": "stdout",
     "output_type": "stream",
     "text": [
      "<class 'tuple'>\n",
      "(30, 360)\n"
     ]
    }
   ],
   "source": [
    "# functions that return multiple things, return tuple types. \n",
    "# tuples and lists are pretty much the same, but tuples are immutable. (once created cannot change).\n",
    "print(type(two_output_func(10, 12)))\n",
    "print(two_output_func(10, 12))"
   ]
  },
  {
   "cell_type": "code",
   "execution_count": 70,
   "metadata": {},
   "outputs": [
    {
     "name": "stdout",
     "output_type": "stream",
     "text": [
      "3\n",
      "6\n",
      "[1, 2, 10]\n"
     ]
    },
    {
     "ename": "TypeError",
     "evalue": "'tuple' object does not support item assignment",
     "output_type": "error",
     "traceback": [
      "\u001b[0;31m---------------------------------------------------------------------------\u001b[0m",
      "\u001b[0;31mTypeError\u001b[0m                                 Traceback (most recent call last)",
      "Cell \u001b[0;32mIn[70], line 15\u001b[0m\n\u001b[1;32m     12\u001b[0m my_list[\u001b[38;5;241m2\u001b[39m] \u001b[38;5;241m=\u001b[39m \u001b[38;5;241m10\u001b[39m\n\u001b[1;32m     13\u001b[0m \u001b[38;5;28mprint\u001b[39m(my_list)\n\u001b[0;32m---> 15\u001b[0m \u001b[43mmy_tuple\u001b[49m\u001b[43m[\u001b[49m\u001b[38;5;241;43m2\u001b[39;49m\u001b[43m]\u001b[49m \u001b[38;5;241m=\u001b[39m \u001b[38;5;241m10\u001b[39m\n\u001b[1;32m     16\u001b[0m \u001b[38;5;28mprint\u001b[39m(my_tuple)\n",
      "\u001b[0;31mTypeError\u001b[0m: 'tuple' object does not support item assignment"
     ]
    }
   ],
   "source": [
    "# tuples and lists are pretty much the same, but tuples are immutable. (once created cannot change).\n",
    "\n",
    "# create a list and a tuple\n",
    "my_list = [1,2,3]\n",
    "my_tuple = (4,5,6)\n",
    "\n",
    "# accessing/indexxing elements is the same for lists and tuples\n",
    "print(my_list[2])\n",
    "print(my_tuple[2])\n",
    "\n",
    "# Lists can change, but tuples cannot\n",
    "my_list[2] = 10\n",
    "print(my_list)\n",
    "\n",
    "my_tuple[2] = 10\n",
    "print(my_tuple)\n",
    "\n"
   ]
  },
  {
   "cell_type": "code",
   "execution_count": 71,
   "metadata": {},
   "outputs": [],
   "source": [
    "from my_number_functions import even_number_checker"
   ]
  },
  {
   "cell_type": "code",
   "execution_count": 72,
   "metadata": {},
   "outputs": [
    {
     "data": {
      "text/plain": [
       "True"
      ]
     },
     "execution_count": 72,
     "metadata": {},
     "output_type": "execute_result"
    }
   ],
   "source": [
    "even_number_checker(10)"
   ]
  },
  {
   "cell_type": "code",
   "execution_count": 77,
   "metadata": {},
   "outputs": [],
   "source": [
    "test_list = [1,4,5,2,3,6,7,8,9,10]\n",
    "# expected outputs = [2,4,6,8,10], [1,3,5,7,9]"
   ]
  },
  {
   "cell_type": "code",
   "execution_count": 80,
   "metadata": {},
   "outputs": [],
   "source": [
    "def even_odd_list_creator(input_list: list) -> tuple:\n",
    "    even_list = []\n",
    "    odd_list = []\n",
    "    for item in input_list:\n",
    "        if even_number_checker(item) == True:\n",
    "            even_list.append(item)\n",
    "        else:\n",
    "            odd_list.append(item)\n",
    "    even_list.sort()\n",
    "    odd_list.sort()\n",
    "    return even_list, odd_list"
   ]
  },
  {
   "cell_type": "code",
   "execution_count": 81,
   "metadata": {},
   "outputs": [
    {
     "data": {
      "text/plain": [
       "([2, 4, 6, 8, 10], [1, 3, 5, 7, 9])"
      ]
     },
     "execution_count": 81,
     "metadata": {},
     "output_type": "execute_result"
    }
   ],
   "source": [
    "even_odd_list_creator(test_list)"
   ]
  }
 ],
 "metadata": {
  "kernelspec": {
   "display_name": "base",
   "language": "python",
   "name": "python3"
  },
  "language_info": {
   "codemirror_mode": {
    "name": "ipython",
    "version": 3
   },
   "file_extension": ".py",
   "mimetype": "text/x-python",
   "name": "python",
   "nbconvert_exporter": "python",
   "pygments_lexer": "ipython3",
   "version": "3.11.8"
  }
 },
 "nbformat": 4,
 "nbformat_minor": 2
}
